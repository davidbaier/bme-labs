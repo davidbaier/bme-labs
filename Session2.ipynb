{
  "nbformat": 4,
  "nbformat_minor": 0,
  "metadata": {
    "colab": {
      "name": "Session2.ipynb",
      "provenance": [],
      "collapsed_sections": [],
      "include_colab_link": true
    },
    "kernelspec": {
      "name": "python3",
      "display_name": "Python 3"
    },
    "language_info": {
      "name": "python"
    }
  },
  "cells": [
    {
      "cell_type": "markdown",
      "metadata": {
        "id": "view-in-github",
        "colab_type": "text"
      },
      "source": [
        "<a href=\"https://colab.research.google.com/github/ubern-mia/bme-labs/blob/main/Session2.ipynb\" target=\"_parent\"><img src=\"https://colab.research.google.com/assets/colab-badge.svg\" alt=\"Open In Colab\"/></a>"
      ]
    },
    {
      "cell_type": "markdown",
      "source": [
        "# Session 2\n",
        "This notebook gives you a starting point for the second session, where we try to automatically classify if a patient has a disease from the FastSurfer outputs.\n",
        "\n",
        "After uploading, we start with a brief data exploration part."
      ],
      "metadata": {
        "id": "590nye6xGeAE"
      }
    },
    {
      "cell_type": "code",
      "execution_count": null,
      "metadata": {
        "collapsed": true,
        "id": "BZYNP1NEGcDx"
      },
      "outputs": [],
      "source": [
        "from google.colab import files\n",
        "! cd \"/content\"\n",
        "uploaded = files.upload()\n",
        "\n",
        "measurements = \"/content/\" + list(uploaded.keys())[0]"
      ]
    },
    {
      "cell_type": "markdown",
      "source": [
        "The upload widget is only available when the cell has been executed in the current browser session. Please rerun this cell to enable. "
      ],
      "metadata": {
        "id": "ncz6Q1GDHGob"
      }
    },
    {
      "cell_type": "code",
      "source": [
        "import pandas as pd\n",
        "import matplotlib.pyplot as plt\n",
        "import seaborn as sns\n",
        "\n",
        "# define a mapping of the disease encoding back to strings\n",
        "diseasestatus = {0: \"Healthy\", 1: \"ASD\", 2: \"Epilepsy\"}\n",
        "\n",
        "measurements = pd.read_csv(\"/content/fsfaststats.csv\")\n",
        "\n",
        "# map the disease name to the encoding and make sure the age is a float\n",
        "measurements[\"Disease\"] = [diseasestatus[e] for e in measurements[\"Disease\"]]\n",
        "measurements[\"Age\"] = [float(e) for e in measurements[\"Age\"]]\n",
        "\n",
        "plotcols = list(set(measurements.columns) - set([\"Age\", \"Subject\", \"Disease\"]))"
      ],
      "metadata": {
        "id": "dwSpVT08HWMS"
      },
      "execution_count": null,
      "outputs": []
    },
    {
      "cell_type": "markdown",
      "source": [
        "Let's plot it! The example limits it to the first five columns."
      ],
      "metadata": {
        "id": "pzYbn3_4IgfT"
      }
    },
    {
      "cell_type": "code",
      "source": [
        "for col in plotcols[:5]:\n",
        "    ax = sns.lmplot(x=\"Age\", y=col, hue=\"Disease\", data=measurements, ci=95)\n",
        "    ax.fig.subplots_adjust(top=.95)\n",
        "    plt.title(col)\n",
        "    plt.show()"
      ],
      "metadata": {
        "id": "VtlxKcrWID_M"
      },
      "execution_count": null,
      "outputs": []
    },
    {
      "cell_type": "markdown",
      "source": [
        "As you can probably see, it is hard to see relevant difference here. Let's see what we can achieve by feeding the data into common machine learning models."
      ],
      "metadata": {
        "id": "sFXNlczRIkX7"
      }
    },
    {
      "cell_type": "code",
      "source": [
        "from sklearn.model_selection import StratifiedShuffleSplit\n",
        "from sklearn.model_selection import cross_val_score\n",
        "from sklearn.ensemble import RandomForestClassifier\n",
        "from sklearn.metrics import make_scorer, balanced_accuracy_score\n",
        "\n",
        "# this is how you create your custom scorer, e.g., using the balanced accuracy.\n",
        "# you can use any metric from sklearn that way, but you have to import it like\n",
        "# it is done above\n",
        "# (list here:https://scikit-learn.org/stable/modules/model_evaluation.html)\n",
        "balanced_scorer = make_scorer(balanced_accuracy_score)\n",
        "\n",
        "# X is the feature matrix we feed to the classifier, i.e. the measurements and the age of the subject\n",
        "features = list(set(measurements.columns) - set([\"Subject\", \"Disease\"]))\n",
        "X = measurements.loc[:, features]\n",
        "y = measurements[\"Disease\"]\n",
        "\n",
        "# Reserve 20% of the data for testing\n",
        "sss = StratifiedShuffleSplit(n_splits=1, test_size=0.2, random_state=42)\n",
        "for train_index, test_index in sss.split(X, y):\n",
        "  print(\"Training set size: \" + str(len(train_index)))\n",
        "  print(\"Test set size: \" + str(len(test_index)))\n",
        "\n",
        "X_train = X.iloc[train_index, :]\n",
        "y_train = y.iloc[train_index]\n",
        "\n",
        "X_test = X.iloc[test_index, :]\n",
        "y_test = y.iloc[test_index]\n",
        "\n",
        "# Let's first try a Random Forest classifier\n",
        "crossval = StratifiedShuffleSplit(n_splits=5, test_size=0.2, random_state=42)\n",
        "clf = RandomForestClassifier(n_estimators=200, max_depth=None, random_state=42)\n",
        "\n",
        "# use the default scorer (accuracy)\n",
        "scores = cross_val_score(clf, X_train, y_train, cv=crossval)\n",
        "print(\"%0.2f accuracy with a standard deviation of %0.2f\" % (scores.mean(), scores.std()))\n",
        "\n",
        "# we can also use our own scorer (with the balanced accuracy)\n",
        "scores_bal = cross_val_score(clf, X_train, y_train, cv=crossval, scoring=balanced_scorer)\n",
        "print(\"%0.2f bal. accuracy with a standard deviation of %0.2f\" % (scores_bal.mean(), scores_bal.std()))"
      ],
      "metadata": {
        "id": "4ugXp7p6LH9N"
      },
      "execution_count": null,
      "outputs": []
    },
    {
      "cell_type": "markdown",
      "source": [
        "Let's apply it to the test set and see how it goes"
      ],
      "metadata": {
        "id": "mLBoFw5pS2va"
      }
    },
    {
      "cell_type": "code",
      "source": [
        "import matplotlib.pyplot as plt\n",
        "from sklearn.metrics import classification_report\n",
        "from sklearn.metrics import ConfusionMatrixDisplay\n",
        "\n",
        "# Train a Random Forest and apply it to the test set\n",
        "clf.fit(X_train, y_train)\n",
        "y_pred = clf.predict(X_test)\n",
        "\n",
        "print(classification_report(y_test, y_pred))\n",
        "\n",
        "ConfusionMatrixDisplay.from_predictions(y_test, y_pred, sample_weight=None,\n",
        "                                        display_labels=clf.classes_, \n",
        "                                        include_values=True, \n",
        "                                        xticks_rotation='horizontal', \n",
        "                                        values_format=None, cmap='viridis', \n",
        "                                        colorbar=True)\n",
        "plt.title(\"Confusion matrix\")\n",
        "plt.show()\n",
        "\n",
        "# And another normalized version\n",
        "ConfusionMatrixDisplay.from_predictions(y_test, y_pred, sample_weight=None, \n",
        "                                        normalize='all', \n",
        "                                        display_labels=clf.classes_, \n",
        "                                        include_values=True, \n",
        "                                        xticks_rotation='horizontal', \n",
        "                                        values_format=None, cmap='viridis', \n",
        "                                        ax=None, colorbar=True)\n",
        "plt.title(\"Normalized confusion matrix\")\n",
        "plt.show()\n",
        "\n"
      ],
      "metadata": {
        "id": "RBN0_BlnNjF2",
        "collapsed": true
      },
      "execution_count": null,
      "outputs": []
    }
  ]
}